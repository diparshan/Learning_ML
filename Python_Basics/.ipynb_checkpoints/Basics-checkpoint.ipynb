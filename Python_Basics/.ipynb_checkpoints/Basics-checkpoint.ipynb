{
 "cells": [
  {
   "cell_type": "markdown",
   "id": "294c940c-ad0f-4249-b337-5e3e955cede9",
   "metadata": {},
   "source": [
    "Programming Languages used or Machine learning\n",
    "1. Python\n",
    "2. R"
   ]
  },
  {
   "cell_type": "code",
   "execution_count": 5,
   "id": "e9f5ba47-b5ae-4aac-bd84-f11fcbbcb308",
   "metadata": {},
   "outputs": [
    {
     "name": "stdout",
     "output_type": "stream",
     "text": [
      "Machine Learning\n"
     ]
    }
   ],
   "source": [
    "print(\"Machine Learning\")"
   ]
  },
  {
   "cell_type": "code",
   "execution_count": 7,
   "id": "dd4b3836-7fca-4173-b9a4-10838802fd69",
   "metadata": {},
   "outputs": [
    {
     "name": "stdin",
     "output_type": "stream",
     "text": [
      "Enter a first number:  34\n"
     ]
    },
    {
     "name": "stdout",
     "output_type": "stream",
     "text": [
      "34\n"
     ]
    }
   ],
   "source": [
    "num1 = input(\"Enter a first number: \")\n",
    "print(num1)"
   ]
  },
  {
   "cell_type": "code",
   "execution_count": 9,
   "id": "c16cd3eb-c30c-480f-ae53-0e421ffcade5",
   "metadata": {},
   "outputs": [
    {
     "name": "stdout",
     "output_type": "stream",
     "text": [
      "The value of a is:  8\n",
      "<class 'int'>\n"
     ]
    }
   ],
   "source": [
    "# integers\n",
    "a = 8 \n",
    "print(\"The value of a is: \",a)\n",
    "print(type(a))"
   ]
  },
  {
   "cell_type": "code",
   "execution_count": 11,
   "id": "693c7a2e-3a8b-4f54-b41a-2a102e652b8c",
   "metadata": {},
   "outputs": [
    {
     "name": "stdout",
     "output_type": "stream",
     "text": [
      "Ello Wor\n"
     ]
    }
   ],
   "source": [
    "string=\"HEllo World\"\n",
    "print(string[1:9])"
   ]
  },
  {
   "cell_type": "code",
   "execution_count": 23,
   "id": "aff97196-c219-46e8-8bd7-23cd8f31908c",
   "metadata": {},
   "outputs": [
    {
     "name": "stdout",
     "output_type": "stream",
     "text": [
      "[1, 2, 3, 4, 5]\n",
      "<class 'list'>\n"
     ]
    }
   ],
   "source": [
    "#List \n",
    "# enclosed in square brackets\n",
    "# list can have multiple datatypes\n",
    "# list are mutable which means they can be changed after they are created too.\n",
    "# list allow duplicate value whereas set doesnt\n",
    "\n",
    "my_list = [1,2,3,4,5]\n",
    "print(my_list)\n",
    "print(type(my_list))"
   ]
  },
  {
   "cell_type": "code",
   "execution_count": 21,
   "id": "618d78d8-d211-4a92-b10c-b3f066925fab",
   "metadata": {},
   "outputs": [
    {
     "name": "stdout",
     "output_type": "stream",
     "text": [
      "[3, 1.8]\n"
     ]
    }
   ],
   "source": [
    "my_list = [2, 3, 1.8, 'English', True]\n",
    "my_list.append(6)\n",
    "#.append(value) is used to add elements to a list\n",
    "\n",
    "print(my_list[1:3])"
   ]
  },
  {
   "cell_type": "code",
   "execution_count": 27,
   "id": "2eb1a496-fb69-4dc6-aa86-1ecb099babd1",
   "metadata": {},
   "outputs": [
    {
     "name": "stdout",
     "output_type": "stream",
     "text": [
      "5\n",
      "[]\n"
     ]
    }
   ],
   "source": [
    "# len(listname) is used to find the length of a list\n",
    "print(len(my_list))\n",
    "\n",
    "#initiating a empty list\n",
    "list2 = []\n",
    "print(list2)"
   ]
  },
  {
   "cell_type": "code",
   "execution_count": 39,
   "id": "cfb691cf-5a2a-44d2-8da8-580e1395ce24",
   "metadata": {},
   "outputs": [
    {
     "name": "stdout",
     "output_type": "stream",
     "text": [
      "(1, 2, 3, 4)\n",
      "<class 'tuple'>\n"
     ]
    }
   ],
   "source": [
    "#Tuple\n",
    "#enclosed in curve brackets\n",
    "# is immutable, values cannot be changed\n",
    "# allows multiple datatype in a single tuple\n",
    "\n",
    "tuple1 = (1, 2, 3, 4)\n",
    "\n",
    "print(tuple1)\n",
    "print(type(tuple1))"
   ]
  },
  {
   "cell_type": "code",
   "execution_count": 41,
   "id": "c61a332f-f805-4d7e-952f-f898d8bb2294",
   "metadata": {},
   "outputs": [
    {
     "name": "stdout",
     "output_type": "stream",
     "text": [
      "['hell', 2, 1.5]\n",
      "('hell', 2, 1.5)\n"
     ]
    }
   ],
   "source": [
    "list1 = ['hell', 2, 1.5]\n",
    "tup1 = tuple(list1)\n",
    "print(list1)\n",
    "print(tup1)"
   ]
  },
  {
   "cell_type": "code",
   "execution_count": 1,
   "id": "49c2e851-5cfb-48b0-9270-f2f3d8536a7a",
   "metadata": {},
   "outputs": [],
   "source": [
    "# set curly brackets\n",
    "#set doesnt support indexing\n",
    "#set doesnt allow duplicate values"
   ]
  },
  {
   "cell_type": "code",
   "execution_count": 3,
   "id": "6480450d-9671-43b1-a95a-593439d28b63",
   "metadata": {},
   "outputs": [
    {
     "name": "stdout",
     "output_type": "stream",
     "text": [
      "b: 50 is the greatest Numb\n"
     ]
    }
   ],
   "source": [
    "a= 30\n",
    "b = 50\n",
    "if (a>b):\n",
    "    print(f\"{a} is the greatest numb\")\n",
    "else:\n",
    "    print(f\"b: {b} is the greatest Numb\")"
   ]
  },
  {
   "cell_type": "code",
   "execution_count": 11,
   "id": "b13b00c9-3d34-4aa6-88e6-f9e062e174b9",
   "metadata": {},
   "outputs": [
    {
     "name": "stdin",
     "output_type": "stream",
     "text": [
      "enter the price of the laptop:  2000\n"
     ]
    }
   ],
   "source": [
    "#For Loops\n",
    "laptop1 = int(input(\"enter the price of the laptop: \"))\n",
    "\n"
   ]
  },
  {
   "cell_type": "code",
   "execution_count": 13,
   "id": "338c9c95-3e5a-4291-8704-5a865e078c35",
   "metadata": {},
   "outputs": [
    {
     "data": {
      "text/plain": [
       "2000"
      ]
     },
     "execution_count": 13,
     "metadata": {},
     "output_type": "execute_result"
    }
   ],
   "source": [
    "laptop1"
   ]
  },
  {
   "cell_type": "code",
   "execution_count": 27,
   "id": "c63e3c99-d939-4564-a7fe-aa05afd41f11",
   "metadata": {},
   "outputs": [
    {
     "name": "stdin",
     "output_type": "stream",
     "text": [
      "Enter the price please:  1\n",
      "Enter the price please:  2\n",
      "Enter the price please:  3\n",
      "Enter the price please:  4\n",
      "Enter the price please:  5\n"
     ]
    }
   ],
   "source": [
    "laptop_price = []\n",
    "for i in range(5):\n",
    "    price = int(input(\"Enter the price please: \"))\n",
    "    laptop_price.append(price)"
   ]
  },
  {
   "cell_type": "code",
   "execution_count": 29,
   "id": "b63f0770-accf-4775-ae51-17891a1b94c8",
   "metadata": {},
   "outputs": [
    {
     "data": {
      "text/plain": [
       "[1, 2, 3, 4, 5]"
      ]
     },
     "execution_count": 29,
     "metadata": {},
     "output_type": "execute_result"
    }
   ],
   "source": [
    "laptop_price"
   ]
  },
  {
   "cell_type": "code",
   "execution_count": 31,
   "id": "a5585075-5984-4078-91fa-475971c7bb56",
   "metadata": {},
   "outputs": [
    {
     "name": "stdout",
     "output_type": "stream",
     "text": [
      "1\n",
      "2\n",
      "3\n",
      "4\n",
      "5\n"
     ]
    }
   ],
   "source": [
    "for laptop in laptop_price:\n",
    "    print(laptop)"
   ]
  },
  {
   "cell_type": "markdown",
   "id": "e7a6ddb3-67ad-4336-a497-0ec94fec3fd8",
   "metadata": {},
   "source": [
    "Comparative Analysis"
   ]
  },
  {
   "cell_type": "markdown",
   "id": "5559e1f4-c6f2-4883-843a-42d2ce95972e",
   "metadata": {},
   "source": [
    "Models Evaluated:\n",
    "1. Baseline Model (No Feature Selection, No GridSearch):\n",
    "   Accuracy: 0.9897\n",
    "   Confusion Matrix:\n",
    "       TP:144, TN:143, FP:0, FN:3\n",
    "   Observation:\n",
    "       -Very High Accuracy\n",
    "       -Likely Overfitting due to 0 FP and low FN\n",
    "       -may not generalize well to new data\n",
    "3. Baseline Model with GridSearch\n",
    "   Accuracy: 0.8621\n",
    "   Confusion Matrix:\n",
    "       TP:134, TN:116, FP:10, FN:30\n",
    "   Observation:\n",
    "       -Reduced overfitting compared to basemodel.\n",
    "       -Hyperparameters were tuned using gridsearch\n",
    "       -lower accuracy but more realistic performance\n",
    "\n",
    "4. Model with Feature Selection (No GridSearch):\n",
    "   Accuracy: 0.8897\n",
    "   Confusion Matrix:\n",
    "       TP:135, TN:123, FP:9, FN:33\n",
    "   Observation:\n",
    "       -slightly better accuracy than the baseline with gridsearch\n",
    "\n",
    "5. Model with Feature Selection and GridSearch\n",
    "   Accuracy: 0.8138\n",
    "   Confusion Matrix:\n",
    "       TP:111, TN:125, FP:31, FN:33\n",
    "   Observation:\n",
    "       -Lowest accuracy but Most generalizable model\n",
    "       -Hyperparameters were tuned and feature selection was applied reducing overfitting.\n",
    "       -likely to perform well on unseen data\n",
    "\n",
    "Key Insights:\n",
    "\n",
    "NoFeature Selection and no GridSearch has the highest accuracy but potential overfitting.\n",
    "GridSearch and feature selection reduce overfitting but reduces the accuracy.\n",
    "Its a tradeoff between accuracy and model generalizability\n",
    "\n",
    "Conclusion:\n",
    "\n",
    "Model with Feature Selection and GridSearch is the best model as it balances accuracy and generalizability, making it more reliable for real world application.\n",
    "As it has lower accuracy compared to the base mode, it provides better interpretability and is less likely to overfit."
   ]
  },
  {
   "cell_type": "code",
   "execution_count": null,
   "id": "58618d07-9fd1-4df5-8c8e-bc73c17856fc",
   "metadata": {},
   "outputs": [],
   "source": []
  }
 ],
 "metadata": {
  "kernelspec": {
   "display_name": "Python 3 (ipykernel)",
   "language": "python",
   "name": "python3"
  },
  "language_info": {
   "codemirror_mode": {
    "name": "ipython",
    "version": 3
   },
   "file_extension": ".py",
   "mimetype": "text/x-python",
   "name": "python",
   "nbconvert_exporter": "python",
   "pygments_lexer": "ipython3",
   "version": "3.12.2"
  }
 },
 "nbformat": 4,
 "nbformat_minor": 5
}
